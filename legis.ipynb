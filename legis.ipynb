{
 "cells": [
  {
   "cell_type": "markdown",
   "metadata": {},
   "source": [
    "# Load Models AND Orm"
   ]
  },
  {
   "cell_type": "code",
   "execution_count": null,
   "metadata": {},
   "outputs": [],
   "source": [
    "from model.models import Base, session, engine, Parti, Candidat, CandidatParti, ResultatCondidatParti, ResultatMetaInfo, UrneVote"
   ]
  },
  {
   "cell_type": "markdown",
   "metadata": {},
   "source": [
    "## Create Schema"
   ]
  },
  {
   "cell_type": "code",
   "execution_count": null,
   "metadata": {},
   "outputs": [],
   "source": [
    "Base.metadata.drop_all(bind=engine)\n",
    "Base.metadata.create_all(bind=engine)"
   ]
  },
  {
   "cell_type": "markdown",
   "metadata": {},
   "source": [
    "# Load CSVs"
   ]
  },
  {
   "cell_type": "code",
   "execution_count": null,
   "metadata": {},
   "outputs": [],
   "source": [
    "from glob import glob\n",
    "import pandas as ps"
   ]
  },
  {
   "cell_type": "code",
   "execution_count": null,
   "metadata": {},
   "outputs": [],
   "source": [
    "files = glob(\"data/legis/*.csv\")"
   ]
  },
  {
   "cell_type": "markdown",
   "metadata": {},
   "source": [
    "## Processing"
   ]
  },
  {
   "cell_type": "markdown",
   "metadata": {},
   "source": [
    "## Helpers"
   ]
  },
  {
   "cell_type": "code",
   "execution_count": null,
   "metadata": {},
   "outputs": [],
   "source": [
    "parti_potentiels = {\n",
    "    \"EDroit\": set([\"RN\",\"FN\",\"DLF\",\"DLR\",\"FRS\",\"PCD\",\"MC\",\"SC\",\"CNIP\",\"UPR\",\"LP\",\"CJ\",\"LS\",\"SIEL\",\"SIEL\",\"PI\",\"LI\",\"BI\",\"DI\",\"PDF\",\"MNR\",\"AF\",\"PNF\",\"T&P ou TP\",\"RF\",\"E&R\",\"AR\"]),\n",
    "    \"DROIT\": set([\"LR\",\"UMP\",\"SL\",\"LR\",\"LMR\",\"CPNT\",\"LT-NE\",\"ASFE\"]),\n",
    "    \"CENTRE\": set([\"LREM\",\"EM\",\"AC\",\"PE\",\"UCE\",\"MoDem\",\"LR\",\"TdP ou TDP\",\"EC\",\"PRV ou RAD\",\"LGM\",\"LFA\",\"UDI\",\"FED\",\"CER\",\"LC\",\"NC\",\"MEI\",\"LV\",\"MHAN\",\"AEI\",\"LEF\",\"NC\",\"GC\",\"TEM\",\"PFE\",\"EDE\"]),\n",
    "    \"GAUCHE\": set([\"PS\",\"PE\",\"EELV\",\"G·s\",\"GE\",\"MDP ou MdP\",\"LND\",\"PP\",\"ND\",\"PRG\",\"LRDG\",\"NGS\",\"GRS\",\"Après\",\"MRC\",\"MDC\",\"NAR\",\"LFD13\",\"PA\",\"UDMF\",\"PP\",\"PP\",\"alias Cindy Lee\",\"RS\",\"SP\",\"IDG\"]),\n",
    "    \"EGAUCHE\": set([\"LFI\",\"PG\",\"ENS\",\"REV\",\"PCF\",\"NPA\",\"LO\",\"PPLD\",\"POI\",\"PT\",\"POID\",\"LTF\",\"PCOF\",\"PRCF\",\"UCL\",\"FA\",\"IR\",\"PIR\",\"RP\"])\n",
    "}"
   ]
  },
  {
   "cell_type": "code",
   "execution_count": null,
   "metadata": {},
   "outputs": [],
   "source": [
    "parti_courants = ps.read_csv(\"data/ptendance.csv\")\n",
    "for index, row in parti_courants.iterrows():\n",
    "    parti_potentiels[row['tendance']].add(row['parti'])"
   ]
  },
  {
   "cell_type": "code",
   "execution_count": null,
   "metadata": {},
   "outputs": [],
   "source": [
    "def extract_year_file(file_name):\n",
    "    return file_name.split('cdsp_presi')[1].split('t')[0]"
   ]
  },
  {
   "cell_type": "code",
   "execution_count": null,
   "metadata": {},
   "outputs": [],
   "source": [
    "def extract_tendance_from_parti(parti):\n",
    "    for key, value in parti_potentiels.items():\n",
    "        if parti.upper() in value:\n",
    "            return key\n",
    "\n",
    "    return None"
   ]
  },
  {
   "cell_type": "code",
   "execution_count": null,
   "metadata": {},
   "outputs": [],
   "source": [
    "def extract_candidat_part(str):\n",
    "    sp = str.split(\" (\")\n",
    "    if(len(sp) > 1):\n",
    "        return (sp[0], sp[1].replace(\")\", \"\"), str)\n",
    "    else:\n",
    "        return (sp[0], \"NEUTRE\", str)"
   ]
  },
  {
   "cell_type": "code",
   "execution_count": null,
   "metadata": {},
   "outputs": [],
   "source": [
    "def save_regions(df):\n",
    "    regio_df = df.filter(regex='département')\n",
    "    regio_df = (\n",
    "        regio_df\n",
    "        .rename(columns=lambda x: 'department_code' if 'code' in x.lower() else 'department_name')\n",
    "        )\n",
    "    regio_df = regio_df.drop_duplicates()\n",
    "    regio_df.to_sql('region',con=engine, if_exists='replace', index=False)"
   ]
  },
  {
   "cell_type": "code",
   "execution_count": null,
   "metadata": {},
   "outputs": [],
   "source": [
    "def handle_term(df, is_final, year):\n",
    "    candidat_partis = load_candidat_parti(df)\n",
    "    save_regions(df)\n",
    "    df.rename(columns=lambda x: 'region_id' if ('code' in x.lower() and 'département' in x.lower()) else x, inplace = True)\n",
    "    df.rename(columns=lambda x: 'circonscription' if 'circonscription' in x.lower() else x, inplace = True)\n",
    "\n",
    "    for _, row in df.iterrows():\n",
    "        urne_Vote = UrneVote(\n",
    "            circonscription=row['circonscription'], \n",
    "            region_id=row['region_id'],\n",
    "            annee=year,\n",
    "            final_round=is_final,\n",
    "            is_legis=False\n",
    "        )\n",
    "        session.add(urne_Vote)\n",
    "        session.flush()\n",
    "        for header, candidat_obj in candidat_partis.items():\n",
    "            candidat_result = ResultatCondidatParti(\n",
    "                    urne_vote_id = urne_Vote.id,\n",
    "                    candidat_parti = candidat_obj.id,\n",
    "                    value = row[header]\n",
    "                )\n",
    "            session.add(candidat_result)\n",
    "            result_meta_info = ResultatMetaInfo(\n",
    "                urne_vote_id=urne_Vote.id,\n",
    "                inscripts=row['Inscrits'],\n",
    "                votants=row['Votants'],\n",
    "                nullparts=row['Blancs et nuls'],\n",
    "                exprimes=row['Exprimés']\n",
    "            )\n",
    "            session.add(result_meta_info)\n",
    "        \n",
    "    session.commit()"
   ]
  },
  {
   "cell_type": "code",
   "execution_count": null,
   "metadata": {},
   "outputs": [],
   "source": [
    "def load_candidat_parti(df):\n",
    "    candidats = [extract_candidat_part(x) for x in df.columns if x.isupper()]\n",
    "    result = {}\n",
    "    for (candidat_name, parti_name, header) in candidats:\n",
    "        tendance = extract_tendance_from_parti(parti_name)\n",
    "        candidat = session.query(Candidat).filter_by(candidat_name = candidat_name)\n",
    "        if candidat.count() == 0:\n",
    "            candidat = Candidat(candidat_name = candidat_name)\n",
    "        else:\n",
    "            candidat = candidat.one()\n",
    "\n",
    "        session.add(candidat)\n",
    "        parti = session.query(Parti).filter_by(parti_name=parti_name)\n",
    "        if parti.count() == 0:\n",
    "            parti = Parti(parti_name=parti_name)\n",
    "        else:\n",
    "            parti = parti.one()\n",
    "\n",
    "        session.add(parti)\n",
    "        candidat_partie = session.query(CandidatParti).filter_by(candidat=candidat, parti=parti, courant=tendance)\n",
    "        if candidat_partie.count() == 0:\n",
    "            candidat_partie = CandidatParti(candidat=candidat, parti=parti, courant=tendance)\n",
    "        else:\n",
    "            candidat_partie = candidat_partie.one()\n",
    "\n",
    "        session.add(candidat_partie)\n",
    "        result[header] = candidat_partie\n",
    "\n",
    "    session.commit()\n",
    "    return result"
   ]
  },
  {
   "cell_type": "markdown",
   "metadata": {},
   "source": [
    "## First Round"
   ]
  },
  {
   "cell_type": "code",
   "execution_count": null,
   "metadata": {},
   "outputs": [],
   "source": [
    "def firstTerm(df, year):\n",
    "    handle_term(df, year=year,is_final=False)"
   ]
  },
  {
   "cell_type": "markdown",
   "metadata": {},
   "source": [
    "## Second Round"
   ]
  },
  {
   "cell_type": "code",
   "execution_count": null,
   "metadata": {},
   "outputs": [],
   "source": [
    "def secondTerm(df, year):\n",
    "    handle_term(df, year=year,is_final=True)"
   ]
  },
  {
   "cell_type": "markdown",
   "metadata": {},
   "source": [
    "## Main Proccess"
   ]
  },
  {
   "cell_type": "code",
   "execution_count": null,
   "metadata": {
    "vscode": {
     "languageId": "plaintext"
    }
   },
   "outputs": [],
   "source": [
    "for file in files:\n",
    "    result = ps.read_csv(file)\n",
    "    _, tail = os.path.split(file)\n",
    "    year = extract_year_file(tail)\n",
    "    if tail.find(\"t1_circ\") == -1:\n",
    "        secondTerm(result,year=year)\n",
    "    else:\n",
    "        firstTerm(result,year=year)"
   ]
  }
 ],
 "metadata": {
  "interpreter": {
   "hash": "6f38824f14e6cdf25f238df8c9650a3016f84b559a379f0cc2094423e0c6757f"
  },
  "kernelspec": {
   "display_name": "Python 3 (ipykernel)",
   "language": "python",
   "name": "python3"
  },
  "language_info": {
   "codemirror_mode": {
    "name": "ipython",
    "version": 3
   },
   "file_extension": ".py",
   "mimetype": "text/x-python",
   "name": "python",
   "nbconvert_exporter": "python",
   "pygments_lexer": "ipython3",
   "version": "3.8.9"
  }
 },
 "nbformat": 4,
 "nbformat_minor": 2
}
