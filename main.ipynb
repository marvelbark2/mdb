{
 "cells": [
  {
   "cell_type": "markdown",
   "metadata": {},
   "source": [
    "# Load Models AND Orm"
   ]
  },
  {
   "cell_type": "code",
   "execution_count": 1,
   "metadata": {},
   "outputs": [],
   "source": [
    "from model.models import Base, session, engine, Parti, Candidat, CandidatParti, ResultatCondidatParti, ResultatMetaInfo, UrneVote"
   ]
  },
  {
   "cell_type": "markdown",
   "metadata": {},
   "source": [
    "## Create Schema"
   ]
  },
  {
   "cell_type": "code",
   "execution_count": 2,
   "metadata": {},
   "outputs": [],
   "source": [
    "Base.metadata.drop_all(bind=engine)\n",
    "Base.metadata.create_all(bind=engine)"
   ]
  },
  {
   "cell_type": "markdown",
   "metadata": {},
   "source": [
    "# Load CSVs"
   ]
  },
  {
   "cell_type": "code",
   "execution_count": 3,
   "metadata": {},
   "outputs": [],
   "source": [
    "from glob import glob\n",
    "import pandas as ps\n",
    "import os\n"
   ]
  },
  {
   "cell_type": "code",
   "execution_count": 4,
   "metadata": {},
   "outputs": [],
   "source": [
    "files = glob(\"presi/*.csv\")"
   ]
  },
  {
   "cell_type": "markdown",
   "metadata": {},
   "source": [
    "## Processing"
   ]
  },
  {
   "cell_type": "markdown",
   "metadata": {},
   "source": [
    "## Helpers"
   ]
  },
  {
   "cell_type": "code",
   "execution_count": 5,
   "metadata": {},
   "outputs": [],
   "source": [
    "parti_potentiels = {\n",
    "    \"EDroit\": [\"RN\",\"FN\",\"DLF\",\"DLR\",\"FRS\",\"PCD\",\"MC\",\"SC\",\"CNIP\",\"UPR\",\"LP\",\"CJ\",\"LS\",\"SIEL\",\"SIEL\",\"PI\",\"LI\",\"BI\",\"DI\",\"PDF\",\"MNR\",\"AF\",\"PNF\",\"T&P ou TP\",\"RF\",\"E&R\",\"AR\"],\n",
    "    \"DROIT\": [\"LR\",\"UMP\",\"SL\",\"LR\",\"LMR\",\"CPNT\",\"LT-NE\",\"ASFE\"],\n",
    "    \"CENTRE\": [\"LREM\",\"EM\",\"AC\",\"PE\",\"UCE\",\"MoDem\",\"LR\",\"TdP ou TDP\",\"EC\",\"PRV ou RAD\",\"LGM\",\"LFA\",\"UDI\",\"FED\",\"CER\",\"LC\",\"NC\",\"MEI\",\"LV\",\"MHAN\",\"AEI\",\"LEF\",\"NC\",\"GC\",\"TEM\",\"PFE\",\"EDE\"],\n",
    "    \"GAUCHE\": [\"PS\",\"PE\",\"EELV\",\"G·s\",\"GE\",\"MDP ou MdP\",\"LND\",\"PP\",\"ND\",\"PRG\",\"LRDG\",\"NGS\",\"GRS\",\"Après\",\"MRC\",\"MDC\",\"NAR\",\"LFD13\",\"PA\",\"UDMF\",\"PP\",\"PP\",\"alias Cindy Lee\",\"RS\",\"SP\",\"IDG\"],\n",
    "    \"EGAUCHE\": [\"LFI\",\"PG\",\"ENS\",\"REV\",\"PCF\",\"NPA\",\"LO\",\"PPLD\",\"POI\",\"PT\",\"POID\",\"LTF\",\"PCOF\",\"PRCF\",\"UCL\",\"FA\",\"IR\",\"PIR\",\"RP\"]\n",
    "}"
   ]
  },
  {
   "cell_type": "code",
   "execution_count": 6,
   "metadata": {},
   "outputs": [],
   "source": [
    "def extract_year_file(file_name):\n",
    "    return file_name.split('cdsp_presi')[1].split('t')[0]"
   ]
  },
  {
   "cell_type": "code",
   "execution_count": 7,
   "metadata": {},
   "outputs": [],
   "source": [
    "def extract_tendance_from_parti(parti):\n",
    "    for key, value in parti_potentiels.items():\n",
    "        if parti.upper() in value:\n",
    "            return key\n",
    "\n",
    "    return None"
   ]
  },
  {
   "cell_type": "code",
   "execution_count": 8,
   "metadata": {},
   "outputs": [],
   "source": [
    "def extract_candidat_part(str):\n",
    "    sp = str.split(\" (\")\n",
    "    if(len(sp) > 1):\n",
    "        return (sp[0], sp[1].replace(\")\", \"\"), str)\n",
    "    else:\n",
    "        return (sp[0], \"NEUTRE\", str)"
   ]
  },
  {
   "cell_type": "code",
   "execution_count": 9,
   "metadata": {},
   "outputs": [],
   "source": [
    "def save_regions(df):\n",
    "    regio_df = df.filter(regex='département')\n",
    "    regio_df = (\n",
    "        regio_df\n",
    "        .rename(columns=lambda x: 'department_code' if 'code' in x.lower() else 'department_name')\n",
    "        )\n",
    "    regio_df = regio_df.drop_duplicates()\n",
    "    regio_df.to_sql('region',con=engine, if_exists='replace', index=True, index_label='id')"
   ]
  },
  {
   "cell_type": "code",
   "execution_count": 10,
   "metadata": {},
   "outputs": [],
   "source": [
    "def save_urn(df, final):\n",
    "    df['final_round'] = final\n",
    "    df.rename(columns=lambda x: 'region_id' if ('code' in x.lower() and 'département' in x.lower()) else x, inplace = True)\n",
    "    df.rename(columns=lambda x: 'circonscription' if 'circonscription' in x.lower() else x, inplace = True)\n",
    "    urn_votes = df[['final_round', 'annee', 'region_id', 'circonscription']]\n",
    "    urn_votes = urn_votes.drop_duplicates()\n",
    "    urn_votes.to_sql('urne_vote',con=engine, if_exists='replace', index=True, index_label='id')\n"
   ]
  },
  {
   "cell_type": "code",
   "execution_count": 11,
   "metadata": {},
   "outputs": [],
   "source": [
    "def handle_term(df, is_final):\n",
    "    candidat_partis = load_candidat_parti(df)\n",
    "    save_regions(df)\n",
    "    save_urn(df, is_final)\n",
    "    for _, row in df.iterrows():\n",
    "        urne_Vote = session.query(UrneVote).filter(UrneVote.final_round == 0, UrneVote.annee.like((row['annee'])), UrneVote.circonscription == row['circonscription'], UrneVote.region_id == ((row['region_id']))).one()\n",
    "        \n",
    "        for header, candidat_obj in candidat_partis.items():\n",
    "            candidat_result = ResultatCondidatParti(\n",
    "                urne_vote_id = urne_Vote.id,\n",
    "                candidat_parti = candidat_obj.id,\n",
    "                value = row[header]\n",
    "            )\n",
    "            session.add(candidat_result)\n",
    "        \n",
    "        result_meta_info = ResultatMetaInfo(\n",
    "            urne_vote_id=urne_Vote.id,\n",
    "            inscripts=row['Inscrits'],\n",
    "            votants=row['Votants'],\n",
    "            nullparts=row['Blancs et nuls'],\n",
    "            exprimes=row['Exprimés']\n",
    "        )\n",
    "        session.add(result_meta_info)\n",
    "        \n",
    "    session.commit()"
   ]
  },
  {
   "cell_type": "markdown",
   "metadata": {},
   "source": [
    "## First Round"
   ]
  },
  {
   "cell_type": "code",
   "execution_count": 12,
   "metadata": {},
   "outputs": [],
   "source": [
    "def load_candidat_parti(df):\n",
    "    candidats = [extract_candidat_part(x) for x in df.columns if x.isupper()]\n",
    "    result = {}\n",
    "    for (candidat_name, parti_name, header) in candidats:\n",
    "        tendance = extract_tendance_from_parti(parti_name)\n",
    "\n",
    "        candidat = Candidat(candidat_name = candidat_name)\n",
    "        session.add(candidat)\n",
    "\n",
    "        parti = Parti(parti_name=parti_name)\n",
    "        session.add(parti)\n",
    "\n",
    "        candidat_partie = CandidatParti(candidat=candidat, parti=parti, courant=tendance)\n",
    "        session.add(candidat_partie)\n",
    "\n",
    "        result[header] = candidat_partie\n",
    "\n",
    "    session.commit()\n",
    "    return result"
   ]
  },
  {
   "cell_type": "code",
   "execution_count": 13,
   "metadata": {},
   "outputs": [],
   "source": [
    "def firstTerm(df):\n",
    "    handle_term(df, False)"
   ]
  },
  {
   "cell_type": "markdown",
   "metadata": {},
   "source": [
    "## Second Round"
   ]
  },
  {
   "cell_type": "code",
   "execution_count": 14,
   "metadata": {},
   "outputs": [],
   "source": [
    "def secondTerm(df):\n",
    "    handle_term(df, True)"
   ]
  },
  {
   "cell_type": "markdown",
   "metadata": {},
   "source": [
    "## Main Proccess"
   ]
  },
  {
   "cell_type": "code",
   "execution_count": 15,
   "metadata": {},
   "outputs": [
    {
     "ename": "NoResultFound",
     "evalue": "No row was found when one was required",
     "output_type": "error",
     "traceback": [
      "\u001b[0;31m---------------------------------------------------------------------------\u001b[0m",
      "\u001b[0;31mNoResultFound\u001b[0m                             Traceback (most recent call last)",
      "\u001b[1;32m/Users/younes/Documents/mdb/main.ipynb Cell 23'\u001b[0m in \u001b[0;36m<cell line: 1>\u001b[0;34m()\u001b[0m\n\u001b[1;32m      <a href='vscode-notebook-cell:/Users/younes/Documents/mdb/main.ipynb#ch0000032?line=4'>5</a>\u001b[0m df[\u001b[39m'\u001b[39m\u001b[39mannee\u001b[39m\u001b[39m'\u001b[39m] \u001b[39m=\u001b[39m year\n\u001b[1;32m      <a href='vscode-notebook-cell:/Users/younes/Documents/mdb/main.ipynb#ch0000032?line=5'>6</a>\u001b[0m \u001b[39mif\u001b[39;00m tail\u001b[39m.\u001b[39mfind(\u001b[39m\"\u001b[39m\u001b[39mt1_circ\u001b[39m\u001b[39m\"\u001b[39m) \u001b[39m==\u001b[39m \u001b[39m-\u001b[39m\u001b[39m1\u001b[39m:\n\u001b[0;32m----> <a href='vscode-notebook-cell:/Users/younes/Documents/mdb/main.ipynb#ch0000032?line=6'>7</a>\u001b[0m     secondTerm(df)\n\u001b[1;32m      <a href='vscode-notebook-cell:/Users/younes/Documents/mdb/main.ipynb#ch0000032?line=7'>8</a>\u001b[0m \u001b[39melse\u001b[39;00m:\n\u001b[1;32m      <a href='vscode-notebook-cell:/Users/younes/Documents/mdb/main.ipynb#ch0000032?line=8'>9</a>\u001b[0m     firstTerm(df)\n",
      "\u001b[1;32m/Users/younes/Documents/mdb/main.ipynb Cell 21'\u001b[0m in \u001b[0;36msecondTerm\u001b[0;34m(df)\u001b[0m\n\u001b[1;32m      <a href='vscode-notebook-cell:/Users/younes/Documents/mdb/main.ipynb#ch0000030?line=0'>1</a>\u001b[0m \u001b[39mdef\u001b[39;00m \u001b[39msecondTerm\u001b[39m(df):\n\u001b[0;32m----> <a href='vscode-notebook-cell:/Users/younes/Documents/mdb/main.ipynb#ch0000030?line=1'>2</a>\u001b[0m     handle_term(df, \u001b[39mTrue\u001b[39;49;00m)\n",
      "\u001b[1;32m/Users/younes/Documents/mdb/main.ipynb Cell 16'\u001b[0m in \u001b[0;36mhandle_term\u001b[0;34m(df, is_final)\u001b[0m\n\u001b[1;32m      <a href='vscode-notebook-cell:/Users/younes/Documents/mdb/main.ipynb#ch0000025?line=3'>4</a>\u001b[0m save_urn(df, is_final)\n\u001b[1;32m      <a href='vscode-notebook-cell:/Users/younes/Documents/mdb/main.ipynb#ch0000025?line=4'>5</a>\u001b[0m \u001b[39mfor\u001b[39;00m _, row \u001b[39min\u001b[39;00m df\u001b[39m.\u001b[39miterrows():\n\u001b[0;32m----> <a href='vscode-notebook-cell:/Users/younes/Documents/mdb/main.ipynb#ch0000025?line=5'>6</a>\u001b[0m     urne_Vote \u001b[39m=\u001b[39m session\u001b[39m.\u001b[39;49mquery(UrneVote)\u001b[39m.\u001b[39;49mfilter(UrneVote\u001b[39m.\u001b[39;49mfinal_round \u001b[39m==\u001b[39;49m \u001b[39m0\u001b[39;49m, UrneVote\u001b[39m.\u001b[39;49mannee\u001b[39m.\u001b[39;49mlike((row[\u001b[39m'\u001b[39;49m\u001b[39mannee\u001b[39;49m\u001b[39m'\u001b[39;49m])), UrneVote\u001b[39m.\u001b[39;49mcirconscription \u001b[39m==\u001b[39;49m row[\u001b[39m'\u001b[39;49m\u001b[39mcirconscription\u001b[39;49m\u001b[39m'\u001b[39;49m], UrneVote\u001b[39m.\u001b[39;49mregion_id \u001b[39m==\u001b[39;49m ((row[\u001b[39m'\u001b[39;49m\u001b[39mregion_id\u001b[39;49m\u001b[39m'\u001b[39;49m])))\u001b[39m.\u001b[39;49mone()\n\u001b[1;32m      <a href='vscode-notebook-cell:/Users/younes/Documents/mdb/main.ipynb#ch0000025?line=7'>8</a>\u001b[0m     \u001b[39mfor\u001b[39;00m header, candidat_obj \u001b[39min\u001b[39;00m candidat_partis\u001b[39m.\u001b[39mitems():\n\u001b[1;32m      <a href='vscode-notebook-cell:/Users/younes/Documents/mdb/main.ipynb#ch0000025?line=8'>9</a>\u001b[0m         candidat_result \u001b[39m=\u001b[39m ResultatCondidatParti(\n\u001b[1;32m     <a href='vscode-notebook-cell:/Users/younes/Documents/mdb/main.ipynb#ch0000025?line=9'>10</a>\u001b[0m             urne_vote_id \u001b[39m=\u001b[39m urne_Vote\u001b[39m.\u001b[39mid,\n\u001b[1;32m     <a href='vscode-notebook-cell:/Users/younes/Documents/mdb/main.ipynb#ch0000025?line=10'>11</a>\u001b[0m             candidat_parti \u001b[39m=\u001b[39m candidat_obj\u001b[39m.\u001b[39mid,\n\u001b[1;32m     <a href='vscode-notebook-cell:/Users/younes/Documents/mdb/main.ipynb#ch0000025?line=11'>12</a>\u001b[0m             value \u001b[39m=\u001b[39m row[header]\n\u001b[1;32m     <a href='vscode-notebook-cell:/Users/younes/Documents/mdb/main.ipynb#ch0000025?line=12'>13</a>\u001b[0m         )\n",
      "File \u001b[0;32m~/.local/share/virtualenvs/mdb-o9pJkGEj/lib/python3.8/site-packages/sqlalchemy/orm/query.py:2865\u001b[0m, in \u001b[0;36mQuery.one\u001b[0;34m(self)\u001b[0m\n\u001b[1;32m   <a href='file:///Users/younes/.local/share/virtualenvs/mdb-o9pJkGEj/lib/python3.8/site-packages/sqlalchemy/orm/query.py?line=2846'>2847</a>\u001b[0m \u001b[39mdef\u001b[39;00m \u001b[39mone\u001b[39m(\u001b[39mself\u001b[39m):\n\u001b[1;32m   <a href='file:///Users/younes/.local/share/virtualenvs/mdb-o9pJkGEj/lib/python3.8/site-packages/sqlalchemy/orm/query.py?line=2847'>2848</a>\u001b[0m     \u001b[39m\"\"\"Return exactly one result or raise an exception.\u001b[39;00m\n\u001b[1;32m   <a href='file:///Users/younes/.local/share/virtualenvs/mdb-o9pJkGEj/lib/python3.8/site-packages/sqlalchemy/orm/query.py?line=2848'>2849</a>\u001b[0m \n\u001b[1;32m   <a href='file:///Users/younes/.local/share/virtualenvs/mdb-o9pJkGEj/lib/python3.8/site-packages/sqlalchemy/orm/query.py?line=2849'>2850</a>\u001b[0m \u001b[39m    Raises ``sqlalchemy.orm.exc.NoResultFound`` if the query selects\u001b[39;00m\n\u001b[0;32m   (...)\u001b[0m\n\u001b[1;32m   <a href='file:///Users/younes/.local/share/virtualenvs/mdb-o9pJkGEj/lib/python3.8/site-packages/sqlalchemy/orm/query.py?line=2862'>2863</a>\u001b[0m \n\u001b[1;32m   <a href='file:///Users/younes/.local/share/virtualenvs/mdb-o9pJkGEj/lib/python3.8/site-packages/sqlalchemy/orm/query.py?line=2863'>2864</a>\u001b[0m \u001b[39m    \"\"\"\u001b[39;00m\n\u001b[0;32m-> <a href='file:///Users/younes/.local/share/virtualenvs/mdb-o9pJkGEj/lib/python3.8/site-packages/sqlalchemy/orm/query.py?line=2864'>2865</a>\u001b[0m     \u001b[39mreturn\u001b[39;00m \u001b[39mself\u001b[39;49m\u001b[39m.\u001b[39;49m_iter()\u001b[39m.\u001b[39;49mone()\n",
      "File \u001b[0;32m~/.local/share/virtualenvs/mdb-o9pJkGEj/lib/python3.8/site-packages/sqlalchemy/engine/result.py:1417\u001b[0m, in \u001b[0;36mScalarResult.one\u001b[0;34m(self)\u001b[0m\n\u001b[1;32m   <a href='file:///Users/younes/.local/share/virtualenvs/mdb-o9pJkGEj/lib/python3.8/site-packages/sqlalchemy/engine/result.py?line=1408'>1409</a>\u001b[0m \u001b[39mdef\u001b[39;00m \u001b[39mone\u001b[39m(\u001b[39mself\u001b[39m):\n\u001b[1;32m   <a href='file:///Users/younes/.local/share/virtualenvs/mdb-o9pJkGEj/lib/python3.8/site-packages/sqlalchemy/engine/result.py?line=1409'>1410</a>\u001b[0m     \u001b[39m\"\"\"Return exactly one object or raise an exception.\u001b[39;00m\n\u001b[1;32m   <a href='file:///Users/younes/.local/share/virtualenvs/mdb-o9pJkGEj/lib/python3.8/site-packages/sqlalchemy/engine/result.py?line=1410'>1411</a>\u001b[0m \n\u001b[1;32m   <a href='file:///Users/younes/.local/share/virtualenvs/mdb-o9pJkGEj/lib/python3.8/site-packages/sqlalchemy/engine/result.py?line=1411'>1412</a>\u001b[0m \u001b[39m    Equivalent to :meth:`_result.Result.one` except that\u001b[39;00m\n\u001b[0;32m   (...)\u001b[0m\n\u001b[1;32m   <a href='file:///Users/younes/.local/share/virtualenvs/mdb-o9pJkGEj/lib/python3.8/site-packages/sqlalchemy/engine/result.py?line=1414'>1415</a>\u001b[0m \n\u001b[1;32m   <a href='file:///Users/younes/.local/share/virtualenvs/mdb-o9pJkGEj/lib/python3.8/site-packages/sqlalchemy/engine/result.py?line=1415'>1416</a>\u001b[0m \u001b[39m    \"\"\"\u001b[39;00m\n\u001b[0;32m-> <a href='file:///Users/younes/.local/share/virtualenvs/mdb-o9pJkGEj/lib/python3.8/site-packages/sqlalchemy/engine/result.py?line=1416'>1417</a>\u001b[0m     \u001b[39mreturn\u001b[39;00m \u001b[39mself\u001b[39;49m\u001b[39m.\u001b[39;49m_only_one_row(\n\u001b[1;32m   <a href='file:///Users/younes/.local/share/virtualenvs/mdb-o9pJkGEj/lib/python3.8/site-packages/sqlalchemy/engine/result.py?line=1417'>1418</a>\u001b[0m         raise_for_second_row\u001b[39m=\u001b[39;49m\u001b[39mTrue\u001b[39;49;00m, raise_for_none\u001b[39m=\u001b[39;49m\u001b[39mTrue\u001b[39;49;00m, scalar\u001b[39m=\u001b[39;49m\u001b[39mFalse\u001b[39;49;00m\n\u001b[1;32m   <a href='file:///Users/younes/.local/share/virtualenvs/mdb-o9pJkGEj/lib/python3.8/site-packages/sqlalchemy/engine/result.py?line=1418'>1419</a>\u001b[0m     )\n",
      "File \u001b[0;32m~/.local/share/virtualenvs/mdb-o9pJkGEj/lib/python3.8/site-packages/sqlalchemy/engine/result.py:562\u001b[0m, in \u001b[0;36mResultInternal._only_one_row\u001b[0;34m(self, raise_for_second_row, raise_for_none, scalar)\u001b[0m\n\u001b[1;32m    <a href='file:///Users/younes/.local/share/virtualenvs/mdb-o9pJkGEj/lib/python3.8/site-packages/sqlalchemy/engine/result.py?line=559'>560</a>\u001b[0m \u001b[39mif\u001b[39;00m row \u001b[39mis\u001b[39;00m \u001b[39mNone\u001b[39;00m:\n\u001b[1;32m    <a href='file:///Users/younes/.local/share/virtualenvs/mdb-o9pJkGEj/lib/python3.8/site-packages/sqlalchemy/engine/result.py?line=560'>561</a>\u001b[0m     \u001b[39mif\u001b[39;00m raise_for_none:\n\u001b[0;32m--> <a href='file:///Users/younes/.local/share/virtualenvs/mdb-o9pJkGEj/lib/python3.8/site-packages/sqlalchemy/engine/result.py?line=561'>562</a>\u001b[0m         \u001b[39mraise\u001b[39;00m exc\u001b[39m.\u001b[39mNoResultFound(\n\u001b[1;32m    <a href='file:///Users/younes/.local/share/virtualenvs/mdb-o9pJkGEj/lib/python3.8/site-packages/sqlalchemy/engine/result.py?line=562'>563</a>\u001b[0m             \u001b[39m\"\u001b[39m\u001b[39mNo row was found when one was required\u001b[39m\u001b[39m\"\u001b[39m\n\u001b[1;32m    <a href='file:///Users/younes/.local/share/virtualenvs/mdb-o9pJkGEj/lib/python3.8/site-packages/sqlalchemy/engine/result.py?line=563'>564</a>\u001b[0m         )\n\u001b[1;32m    <a href='file:///Users/younes/.local/share/virtualenvs/mdb-o9pJkGEj/lib/python3.8/site-packages/sqlalchemy/engine/result.py?line=564'>565</a>\u001b[0m     \u001b[39melse\u001b[39;00m:\n\u001b[1;32m    <a href='file:///Users/younes/.local/share/virtualenvs/mdb-o9pJkGEj/lib/python3.8/site-packages/sqlalchemy/engine/result.py?line=565'>566</a>\u001b[0m         \u001b[39mreturn\u001b[39;00m \u001b[39mNone\u001b[39;00m\n",
      "\u001b[0;31mNoResultFound\u001b[0m: No row was found when one was required"
     ]
    }
   ],
   "source": [
    "for file in files:\n",
    "    df = ps.read_csv(file)\n",
    "    _, tail = os.path.split(file)\n",
    "    year = extract_year_file(tail)\n",
    "    df['annee'] = year\n",
    "    if tail.find(\"t1_circ\") == -1:\n",
    "        secondTerm(df)\n",
    "    else:\n",
    "        firstTerm(df)"
   ]
  },
  {
   "cell_type": "markdown",
   "metadata": {},
   "source": []
  }
 ],
 "metadata": {
  "interpreter": {
   "hash": "6f38824f14e6cdf25f238df8c9650a3016f84b559a379f0cc2094423e0c6757f"
  },
  "kernelspec": {
   "display_name": "Python 3.8.9 ('mdb-o9pJkGEj')",
   "language": "python",
   "name": "python3"
  },
  "language_info": {
   "codemirror_mode": {
    "name": "ipython",
    "version": 3
   },
   "file_extension": ".py",
   "mimetype": "text/x-python",
   "name": "python",
   "nbconvert_exporter": "python",
   "pygments_lexer": "ipython3",
   "version": "3.8.9"
  },
  "orig_nbformat": 4
 },
 "nbformat": 4,
 "nbformat_minor": 2
}
