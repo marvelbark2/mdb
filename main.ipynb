{
 "cells": [
  {
   "cell_type": "markdown",
   "metadata": {},
   "source": [
    "# Load ORM"
   ]
  },
  {
   "cell_type": "code",
   "execution_count": 1,
   "metadata": {},
   "outputs": [],
   "source": [
    "from sqlalchemy import create_engine\n",
    "from sqlalchemy import Column, Integer, String, Boolean, ForeignKey\n",
    "from sqlalchemy.ext.declarative import declarative_base\n",
    "from sqlalchemy.orm import relationship\n",
    "from sqlalchemy.orm import sessionmaker"
   ]
  },
  {
   "cell_type": "code",
   "execution_count": 2,
   "metadata": {},
   "outputs": [],
   "source": [
    "engine = create_engine('sqlite:///db/mdb.db')"
   ]
  },
  {
   "cell_type": "markdown",
   "metadata": {},
   "source": [
    "# Load Models"
   ]
  },
  {
   "cell_type": "code",
   "execution_count": 3,
   "metadata": {},
   "outputs": [],
   "source": [
    "Base = declarative_base(name=\"Model\")\n",
    "Session = sessionmaker()\n",
    "Session.configure(bind=engine)\n",
    "session = Session()"
   ]
  },
  {
   "cell_type": "code",
   "execution_count": 4,
   "metadata": {},
   "outputs": [],
   "source": [
    "class Region(Base):\n",
    "    __tablename__ = \"region\"\n",
    "    id = Column(Integer, primary_key=True)\n",
    "    department_code = Column(Integer)\n",
    "    department_name = Column(String)"
   ]
  },
  {
   "cell_type": "code",
   "execution_count": 5,
   "metadata": {},
   "outputs": [],
   "source": [
    "class Parti(Base):\n",
    "    __tablename__ = \"parti\"\n",
    "    id = Column(Integer, primary_key=True)\n",
    "    parti_name = Column(String)\n",
    "    candidat = relationship(\"CandidatParti\", back_populates=\"parti\")"
   ]
  },
  {
   "cell_type": "code",
   "execution_count": 6,
   "metadata": {},
   "outputs": [],
   "source": [
    "class Candidat(Base):\n",
    "    __tablename__ = \"candidat\"\n",
    "    id = Column(Integer, primary_key=True)\n",
    "    candidat_name = Column(String)\n",
    "    parti = relationship(\"CandidatParti\", back_populates=\"candidat\")\n"
   ]
  },
  {
   "cell_type": "code",
   "execution_count": 7,
   "metadata": {},
   "outputs": [],
   "source": [
    "class CandidatParti(Base):\n",
    "    __tablename__ = \"candidat_parti\"\n",
    "    id = Column(Integer, primary_key=True)\n",
    "    candidat_id = Column(Integer, ForeignKey('candidat.id'))\n",
    "    parti_id = Column(Integer, ForeignKey('parti.id'))\n",
    "    candidat = relationship(\"Candidat\")\n",
    "    parti = relationship(\"Parti\")"
   ]
  },
  {
   "cell_type": "code",
   "execution_count": 8,
   "metadata": {},
   "outputs": [],
   "source": [
    "class UrneVote(Base):\n",
    "    __tablename__ = \"urne_vote\"\n",
    "    id = Column(Integer, primary_key=True)\n",
    "    circonscription = Column(Integer)\n",
    "    region_id = Column(Integer, ForeignKey('region.id'))\n",
    "    annee = Column(String)\n",
    "    final_round = Column(Boolean, default=False)"
   ]
  },
  {
   "cell_type": "code",
   "execution_count": 9,
   "metadata": {},
   "outputs": [],
   "source": [
    "class ResultatCondidatParti(Base):\n",
    "    __tablename__ = \"resultat_candidat\"\n",
    "    id = Column(Integer, primary_key=True)\n",
    "    urne_vote_id = Column(Integer, ForeignKey('urne_vote.id'))  \n",
    "    candidat_parti = Column(Integer, ForeignKey('candidat_parti.id'))  \n",
    "    value = Column(Integer, default=0)"
   ]
  },
  {
   "cell_type": "code",
   "execution_count": 10,
   "metadata": {},
   "outputs": [],
   "source": [
    "class ResultatMetaInfo(Base):\n",
    "    __tablename__ = \"resultat_metainfo\"\n",
    "    id = Column(Integer, primary_key=True)\n",
    "    urne_vote_id = Column(Integer, ForeignKey('urne_vote.id'))  \n",
    "    inscripts = Column(Integer, default=0)\n",
    "    votants = Column(Integer, default=0)\n",
    "    nullparts = Column(Integer, default=0)\n",
    "    exprimes = Column(Integer, default=0)"
   ]
  },
  {
   "cell_type": "markdown",
   "metadata": {},
   "source": [
    "## Create Schema"
   ]
  },
  {
   "cell_type": "code",
   "execution_count": 11,
   "metadata": {},
   "outputs": [],
   "source": [
    "Base.metadata.drop_all(bind=engine)\n",
    "Base.metadata.create_all(bind=engine)"
   ]
  },
  {
   "cell_type": "markdown",
   "metadata": {},
   "source": [
    "# Load CSVs"
   ]
  },
  {
   "cell_type": "code",
   "execution_count": 12,
   "metadata": {},
   "outputs": [],
   "source": [
    "from glob import glob\n",
    "import pandas as ps\n",
    "import os"
   ]
  },
  {
   "cell_type": "code",
   "execution_count": 13,
   "metadata": {},
   "outputs": [],
   "source": [
    "files = glob(\"presi/*.csv\")"
   ]
  },
  {
   "cell_type": "markdown",
   "metadata": {},
   "source": [
    "## Processing"
   ]
  },
  {
   "cell_type": "markdown",
   "metadata": {},
   "source": [
    "## Helpers"
   ]
  },
  {
   "cell_type": "code",
   "execution_count": 14,
   "metadata": {},
   "outputs": [],
   "source": [
    "def findCandidatOrCreate(candidat_name):\n",
    "    candidat = Candidat(candidat_name = candidat_name)\n",
    "    candidats = (\n",
    "        session\n",
    "        .query(Candidat)\n",
    "        .filter(Candidat.candidat_name == candidat_name)\n",
    "        .all()\n",
    "    )\n",
    "    "
   ]
  },
  {
   "cell_type": "code",
   "execution_count": 15,
   "metadata": {},
   "outputs": [],
   "source": [
    "def extractCandidatPart(str):\n",
    "    sp = str.split(\" (\")\n",
    "    if(len(sp) > 1):\n",
    "        return (sp[0], sp[1].replace(\")\", \"\"))\n",
    "    else:\n",
    "        return (sp[0], \"NEUTRE\")"
   ]
  },
  {
   "cell_type": "markdown",
   "metadata": {},
   "source": [
    "## First Round"
   ]
  },
  {
   "cell_type": "code",
   "execution_count": 16,
   "metadata": {},
   "outputs": [],
   "source": [
    "def firstTerm(df):\n",
    "    candidats = [extractCandidatPart(x) for x in df.columns if x.isupper()]\n",
    "    for (candidat_name, parti_name) in candidats:\n",
    "        candidat = Candidat(candidat_name = candidat_name)\n",
    "        session.add(candidat)\n",
    "        session.commit()"
   ]
  },
  {
   "cell_type": "markdown",
   "metadata": {},
   "source": [
    "## Second Round"
   ]
  },
  {
   "cell_type": "code",
   "execution_count": 17,
   "metadata": {},
   "outputs": [],
   "source": [
    "def secondTerm(df):\n",
    "    pass"
   ]
  },
  {
   "cell_type": "code",
   "execution_count": null,
   "metadata": {},
   "outputs": [],
   "source": []
  },
  {
   "cell_type": "markdown",
   "metadata": {},
   "source": [
    "## Main Proccess"
   ]
  },
  {
   "cell_type": "code",
   "execution_count": 18,
   "metadata": {},
   "outputs": [],
   "source": [
    "for file in files:\n",
    "    df = ps.read_csv(file)\n",
    "    _, tail = os.path.split(file)\n",
    "    if tail.find(\"t1_circ\") == -1:\n",
    "        secondTerm(df)\n",
    "    else:\n",
    "        firstTerm(df)"
   ]
  },
  {
   "cell_type": "code",
   "execution_count": null,
   "metadata": {},
   "outputs": [],
   "source": []
  }
 ],
 "metadata": {
  "interpreter": {
   "hash": "95838ee388b953a2058ce98fdc6724e69bd0144951daa1e0f9f81d333e04a5b5"
  },
  "kernelspec": {
   "display_name": "Python 3.6.8 ('mdb-NFHvffUW')",
   "language": "python",
   "name": "python3"
  },
  "language_info": {
   "codemirror_mode": {
    "name": "ipython",
    "version": 3
   },
   "file_extension": ".py",
   "mimetype": "text/x-python",
   "name": "python",
   "nbconvert_exporter": "python",
   "pygments_lexer": "ipython3",
   "version": "3.6.8"
  },
  "orig_nbformat": 4
 },
 "nbformat": 4,
 "nbformat_minor": 2
}
